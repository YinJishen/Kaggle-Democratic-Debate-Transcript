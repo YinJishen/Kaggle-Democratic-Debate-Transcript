{
 "cells": [
  {
   "cell_type": "code",
   "execution_count": 165,
   "metadata": {},
   "outputs": [],
   "source": [
    "import pandas as pd\n",
    "import string\n",
    "import numpy as np\n",
    "import matplotlib.pyplot as plt\n",
    "from functools import reduce\n",
    "import mglearn"
   ]
  },
  {
   "cell_type": "code",
   "execution_count": 166,
   "metadata": {},
   "outputs": [
    {
     "data": {
      "text/plain": [
       "(4810, 5)"
      ]
     },
     "execution_count": 166,
     "metadata": {},
     "output_type": "execute_result"
    }
   ],
   "source": [
    "transcripts = pd.read_csv(\"debate_transcripts.csv\", engine=\"python\")\n",
    "transcripts.shape"
   ]
  },
  {
   "cell_type": "code",
   "execution_count": 167,
   "metadata": {},
   "outputs": [
    {
     "data": {
      "text/html": [
       "<div>\n",
       "<style scoped>\n",
       "    .dataframe tbody tr th:only-of-type {\n",
       "        vertical-align: middle;\n",
       "    }\n",
       "\n",
       "    .dataframe tbody tr th {\n",
       "        vertical-align: top;\n",
       "    }\n",
       "\n",
       "    .dataframe thead th {\n",
       "        text-align: right;\n",
       "    }\n",
       "</style>\n",
       "<table border=\"1\" class=\"dataframe\">\n",
       "  <thead>\n",
       "    <tr style=\"text-align: right;\">\n",
       "      <th></th>\n",
       "      <th>debate_name</th>\n",
       "      <th>debate_section</th>\n",
       "      <th>speaker</th>\n",
       "      <th>speech</th>\n",
       "      <th>speaking_time_seconds</th>\n",
       "    </tr>\n",
       "  </thead>\n",
       "  <tbody>\n",
       "    <tr>\n",
       "      <th>0</th>\n",
       "      <td>New Hampshire Democratic Debate Transcript</td>\n",
       "      <td>Part 1</td>\n",
       "      <td>George S.</td>\n",
       "      <td>Candidates, welcome. Vice President Biden, the...</td>\n",
       "      <td>18.0</td>\n",
       "    </tr>\n",
       "    <tr>\n",
       "      <th>1</th>\n",
       "      <td>New Hampshire Democratic Debate Transcript</td>\n",
       "      <td>Part 1</td>\n",
       "      <td>Joe Biden</td>\n",
       "      <td>Oh, they didn’t miss anything. It’s a long rac...</td>\n",
       "      <td>36.0</td>\n",
       "    </tr>\n",
       "    <tr>\n",
       "      <th>2</th>\n",
       "      <td>New Hampshire Democratic Debate Transcript</td>\n",
       "      <td>Part 1</td>\n",
       "      <td>George S.</td>\n",
       "      <td>Why are Senator Sanders and Mayor Buttigieg to...</td>\n",
       "      <td>4.0</td>\n",
       "    </tr>\n",
       "    <tr>\n",
       "      <th>3</th>\n",
       "      <td>New Hampshire Democratic Debate Transcript</td>\n",
       "      <td>Part 1</td>\n",
       "      <td>Joe Biden</td>\n",
       "      <td>Well, you know that with regard to Senator San...</td>\n",
       "      <td>41.0</td>\n",
       "    </tr>\n",
       "    <tr>\n",
       "      <th>4</th>\n",
       "      <td>New Hampshire Democratic Debate Transcript</td>\n",
       "      <td>Part 1</td>\n",
       "      <td>George S.</td>\n",
       "      <td>Senator Sanders, let me give you the chance to...</td>\n",
       "      <td>21.0</td>\n",
       "    </tr>\n",
       "  </tbody>\n",
       "</table>\n",
       "</div>"
      ],
      "text/plain": [
       "                                  debate_name debate_section    speaker  \\\n",
       "0  New Hampshire Democratic Debate Transcript         Part 1  George S.   \n",
       "1  New Hampshire Democratic Debate Transcript         Part 1  Joe Biden   \n",
       "2  New Hampshire Democratic Debate Transcript         Part 1  George S.   \n",
       "3  New Hampshire Democratic Debate Transcript         Part 1  Joe Biden   \n",
       "4  New Hampshire Democratic Debate Transcript         Part 1  George S.   \n",
       "\n",
       "                                              speech  speaking_time_seconds  \n",
       "0  Candidates, welcome. Vice President Biden, the...                   18.0  \n",
       "1  Oh, they didn’t miss anything. It’s a long rac...                   36.0  \n",
       "2  Why are Senator Sanders and Mayor Buttigieg to...                    4.0  \n",
       "3  Well, you know that with regard to Senator San...                   41.0  \n",
       "4  Senator Sanders, let me give you the chance to...                   21.0  "
      ]
     },
     "execution_count": 167,
     "metadata": {},
     "output_type": "execute_result"
    }
   ],
   "source": [
    "transcripts.head()"
   ]
  },
  {
   "cell_type": "markdown",
   "metadata": {},
   "source": [
    "## Speaker and Time"
   ]
  },
  {
   "cell_type": "code",
   "execution_count": 168,
   "metadata": {},
   "outputs": [
    {
     "data": {
      "text/plain": [
       "94"
      ]
     },
     "execution_count": 168,
     "metadata": {},
     "output_type": "execute_result"
    }
   ],
   "source": [
    "len(np.unique(transcripts.speaker))"
   ]
  },
  {
   "cell_type": "code",
   "execution_count": 169,
   "metadata": {},
   "outputs": [],
   "source": [
    "total = transcripts.groupby('speaker').agg(\n",
    "    total_seconds = pd.NamedAgg(column=\"speaking_time_seconds\", aggfunc=\"sum\")\n",
    ")\n",
    "total_desc = total.sort_values(by=\"total_seconds\", ascending=False)"
   ]
  },
  {
   "cell_type": "code",
   "execution_count": 170,
   "metadata": {},
   "outputs": [
    {
     "data": {
      "image/png": "[encoded data removed]",
      "text/plain": [
       "<Figure size 720x432 with 1 Axes>"
      ]
     },
     "metadata": {
      "needs_background": "light"
     },
     "output_type": "display_data"
    }
   ],
   "source": [
    "names = np.array(total_desc.index)[:20][::-1]\n",
    "seconds = np.array(total_desc['total_seconds'])[:20][::-1]\n",
    "\n",
    "plt.figure(figsize=(10,6))\n",
    "plt.barh(range(len(names)), seconds, tick_label = names)\n",
    "plt.title(\"Top 20 speakers with longest speaking time\")\n",
    "plt.show()"
   ]
  },
  {
   "cell_type": "markdown",
   "metadata": {},
   "source": [
    "## Section and Time"
   ]
  },
  {
   "cell_type": "code",
   "execution_count": 171,
   "metadata": {},
   "outputs": [
    {
     "data": {
      "text/plain": [
       "17"
      ]
     },
     "execution_count": 171,
     "metadata": {},
     "output_type": "execute_result"
    }
   ],
   "source": [
    "len(np.unique(transcripts.debate_section))"
   ]
  },
  {
   "cell_type": "code",
   "execution_count": 172,
   "metadata": {},
   "outputs": [],
   "source": [
    "total = transcripts.groupby('debate_section').agg(\n",
    "    total_seconds = pd.NamedAgg(column=\"speaking_time_seconds\", aggfunc=\"sum\")\n",
    ")"
   ]
  },
  {
   "cell_type": "code",
   "execution_count": 173,
   "metadata": {},
   "outputs": [
    {
     "data": {
      "image/png": "[encoded data removed]",
      "text/plain": [
       "<Figure size 720x432 with 1 Axes>"
      ]
     },
     "metadata": {
      "needs_background": "light"
     },
     "output_type": "display_data"
    }
   ],
   "source": [
    "names = np.array(total_desc.index)\n",
    "seconds = np.array(total_desc['total_seconds'])\n",
    "\n",
    "plt.figure(figsize=(10,6))\n",
    "plt.barh(range(len(names)), seconds, tick_label = names)\n",
    "plt.title(\"Duration time of Different Section\")\n",
    "plt.show()"
   ]
  },
  {
   "cell_type": "markdown",
   "metadata": {},
   "source": [
    "## Bag of Words"
   ]
  },
  {
   "cell_type": "code",
   "execution_count": 174,
   "metadata": {},
   "outputs": [],
   "source": [
    "def clean_str(x):\n",
    "    z = \"\".join([y for y in x if y in string.printable])\n",
    "    return z.translate(str.maketrans(\"\", \"\", string.punctuation)).lower()\n",
    "\n",
    "transcripts.speech = transcripts.speech.apply(clean_str)"
   ]
  },
  {
   "cell_type": "code",
   "execution_count": 175,
   "metadata": {},
   "outputs": [],
   "source": [
    "speech = list(transcripts.speech)"
   ]
  },
  {
   "cell_type": "code",
   "execution_count": 176,
   "metadata": {},
   "outputs": [],
   "source": [
    "words = set(reduce(lambda x, y: x + y, [x.split() for x in speech]))"
   ]
  },
  {
   "cell_type": "code",
   "execution_count": 177,
   "metadata": {},
   "outputs": [
    {
     "data": {
      "text/plain": [
       "[('people', 1390),\n",
       " ('president', 1207),\n",
       " ('senator', 1155),\n",
       " ('going', 1120),\n",
       " ('thank', 922),\n",
       " ('country', 748),\n",
       " ('want', 706),\n",
       " ('just', 687),\n",
       " ('think', 664),\n",
       " ('right', 664),\n",
       " ('thats', 652),\n",
       " ('need', 644),\n",
       " ('make', 606),\n",
       " ('im', 577),\n",
       " ('trump', 571),\n",
       " ('got', 500),\n",
       " ('like', 491),\n",
       " ('know', 490),\n",
       " ('american', 487),\n",
       " ('said', 464),\n",
       " ('america', 457),\n",
       " ('dont', 449),\n",
       " ('way', 443),\n",
       " ('time', 405),\n",
       " ('say', 402)]"
      ]
     },
     "execution_count": 177,
     "metadata": {},
     "output_type": "execute_result"
    }
   ],
   "source": [
    "from sklearn.feature_extraction.text import ENGLISH_STOP_WORDS\n",
    "\n",
    "freq = dict()\n",
    "for doc in speech:\n",
    "    for word in doc.split():\n",
    "        if word not in ENGLISH_STOP_WORDS:\n",
    "            freq[word] = freq.get(word, 0) + 1\n",
    "freq = [(k, v) for k, v in sorted(freq.items(), key=lambda x:x[1], reverse=True)]\n",
    "freq[:25]"
   ]
  },
  {
   "cell_type": "code",
   "execution_count": 178,
   "metadata": {},
   "outputs": [],
   "source": [
    "from sklearn.feature_extraction.text import CountVectorizer\n",
    "\n",
    "vect = CountVectorizer(stop_words=\"english\", max_df=100)\n",
    "vect.fit(speech)\n",
    "\n",
    "X = vect.transform(speech)"
   ]
  },
  {
   "cell_type": "code",
   "execution_count": 179,
   "metadata": {},
   "outputs": [
    {
     "data": {
      "text/plain": [
       "(4810, 8971)"
      ]
     },
     "execution_count": 179,
     "metadata": {},
     "output_type": "execute_result"
    }
   ],
   "source": [
    "X.shape"
   ]
  },
  {
   "cell_type": "markdown",
   "metadata": {},
   "source": [
    "## Topic modeling and Latent Dirichlet Allocation"
   ]
  },
  {
   "cell_type": "code",
   "execution_count": 180,
   "metadata": {},
   "outputs": [],
   "source": [
    "from sklearn.decomposition import LatentDirichletAllocation\n",
    "lda = LatentDirichletAllocation(n_components=16, learning_method=\"batch\",\n",
    "                               max_iter=25, random_state=0)\n",
    "\n",
    "document_topics = lda.fit_transform(X)"
   ]
  },
  {
   "cell_type": "code",
   "execution_count": 181,
   "metadata": {},
   "outputs": [
    {
     "data": {
      "text/plain": [
       "(16, 8971)"
      ]
     },
     "execution_count": 181,
     "metadata": {},
     "output_type": "execute_result"
    }
   ],
   "source": [
    "lda.components_.shape"
   ]
  },
  {
   "cell_type": "code",
   "execution_count": 182,
   "metadata": {},
   "outputs": [],
   "source": [
    "sorting = np.argsort(lda.components_, axis=1)[:, ::-1]\n",
    "feature_names = np.array(vect.get_feature_names())"
   ]
  },
  {
   "cell_type": "code",
   "execution_count": 183,
   "metadata": {},
   "outputs": [
    {
     "name": "stdout",
     "output_type": "stream",
     "text": [
      "topic 0       topic 1       topic 2       topic 3       topic 4       topic 5       topic 6       topic 7       \n",
      "--------      --------      --------      --------      --------      --------      --------      --------      \n",
      "secretary     court         women         republicans   orourke       border        williamson    college       \n",
      "castro        women         congresswoman iowa          sorry         yang          ms            school        \n",
      "hold          roe           seconds       won           hand          immigration   general       education     \n",
      "threat        supreme       30            vote          great         rules         crisis        wealth        \n",
      "bennet        wade          gabbard       immigration   impeachment   asylum        office        kids          \n",
      "accountable   troops        candidates    voters        oh            undocumented  needs         debt          \n",
      "iran          says          delaney       corruption    regime        white         department    student       \n",
      "somebody      woman         chance        common        history       citizenship   decision      income        \n",
      "national      rights        ahead         greed         supporting    immigrants    priority      schools       \n",
      "moment        reproductive  black         happen        taxes         month         special       childcare     \n",
      "based         constitution  wage          ago           continue      fix           administrationfree          \n",
      "lives         abortion      blasio        obama         happening     mean          nation        universal     \n",
      "foreign       case          voters        communities   corporations  experience    leaders       teacher       \n",
      "situation     bold          policies      michigan      forward       crime         doesnt        loan          \n",
      "greatest      justices      cents         passed        turn          cross         comes         high          \n",
      "democracy     men           getting       border        experience    security      stop          housing       \n",
      "solve         reform        men           coalition     democracy     dreamers      iraq          child         \n",
      "problems      elizabeth     times         flint         news          issues        biggest       billionaires  \n",
      "feel          vote          order         color         syria         comes         foreign       invest        \n",
      "turn          history       yang          challenge     raised        china         hard          communities   \n",
      "crisis        inaudible     course        power         man           turn          race          living        \n",
      "line          political     hour          means         stay          crisis        emergency     raise         \n",
      "kind          having        build         half          run           obama         wants         teachers      \n",
      "torch         republican    ill           went          500           pathway       black         life          \n",
      "makes         face          worked        old           national      allow         values        women         \n",
      "\n",
      "\n",
      "topic 8       topic 9       topic 10      topic 11      topic 12      topic 13      topic 14      topic 15      \n",
      "--------      --------      --------      --------      --------      --------      --------      --------      \n",
      "trade         china         fossil        cost          booker        gun           middle        harris        \n",
      "china         challenges    energy        drug          steyer        weapons       class         afghanistan   \n",
      "workers       security      industry      option        id            violence      45            troops        \n",
      "farmers       north         fuel          prescription  okay          nuclear       seconds       members       \n",
      "tariffs       korea         carbon        drugs         works         assault       join          military      \n",
      "trumps        yeah          millions      costs         great         rights        immigrants    black         \n",
      "agreement     russia        break         private       troops        guns          doesnt        chief         \n",
      "deals         foreign       green         buy           allies        act           texas         commander     \n",
      "mexico        long          live          coverage      stop          background    taxes         candidates    \n",
      "ill           afghanistan   second        prices        proud         nra           whos          ask           \n",
      "different     south         create        afford        military      iran          hard          hear          \n",
      "corporations  threat        ryan          pharmaceuticaluse           civil         lead          continue      \n",
      "minute        nuclear       clean         taking        table         checks        wall          hickenlooper  \n",
      "nafta         turn          workers       obamacare     seen          ban           city          candidate     \n",
      "voted         florida       quick         premiums      trying        weapon        candidate     best          \n",
      "presidential  terms         manufacturing paying        corruption    action        history       different     \n",
      "cnn           different     paying        affordable    china         inslee        love          talked        \n",
      "average       voters        ohio          build         gillibrand    changed       politics      iraq          \n",
      "candidates    needs         matter        billion       yang          streets       george        including     \n",
      "relationship  democracy     planet        says          coming        federal       trying        nato          \n",
      "seconds       face          came          price         unions        lead          bills         workers       \n",
      "environmental moment        campaign      corporate     private       universal     important     courage       \n",
      "begin         national      elected       plans         theyve        agreement     thanks        leaders       \n",
      "joe           politics      closing       act           means         police        white         experience    \n",
      "iowa          wars          industrial    taxes         lives         city          nation        committee     \n",
      "\n",
      "\n"
     ]
    }
   ],
   "source": [
    "mglearn.tools.print_topics(topics=range(16), feature_names=feature_names,\n",
    "                          sorting=sorting, topics_per_chunk=8, n_words=25)"
   ]
  },
  {
   "cell_type": "code",
   "execution_count": null,
   "metadata": {},
   "outputs": [],
   "source": []
  }
 ],
 "metadata": {
  "kernelspec": {
   "display_name": "Python 3",
   "language": "python",
   "name": "python3"
  },
  "language_info": {
   "codemirror_mode": {
    "name": "ipython",
    "version": 3
   },
   "file_extension": ".py",
   "mimetype": "text/x-python",
   "name": "python",
   "nbconvert_exporter": "python",
   "pygments_lexer": "ipython3",
   "version": "3.7.4"
  }
 },
 "nbformat": 4,
 "nbformat_minor": 2
}
